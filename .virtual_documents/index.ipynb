











import pandas as pd
import matplotlib.pyplot as plt
get_ipython().run_line_magic("matplotlib", " inline")
plt.style.use('seaborn-v0_8-darkgrid')

ames = pd.read_csv('ames.csv', index_col=0)
ames





ames = ames[[
    "LotArea",
    "MasVnrArea",
    "TotalBsmtSF",
    "GrLivArea",
    "GarageArea",
    "SalePrice"
]].copy()
ames





ames.dropna(inplace=True)
ames





ames.hist(figsize=(15,10), bins="auto");





# Your code here - build a linear regression model with un-transformed features

import statsmodels.api as sm

# Defining the target and features
X = ames.drop("SalePrice", axis=1)
y = ames["SalePrice"]

# Adding a constant to the model 
X = sm.add_constant(X)

# Fitting the model
model = sm.OLS(y, X)
results = model.fit()

# Summary results
results.summary()














# Your code here - building a new model or transforming coefficients
# from initial model so that they are in square meters

# Transforming Coefficients to Metric Units
sqft_to_sqm = 0.092903

# Original coefficients in square feet
coeffs_sqft = {
    "LotArea": 0.2568,
    "MasVnrArea": 55.0481,
    "TotalBsmtSF": 44.1640,
    "GrLivArea": 63.8443,
    "GarageArea": 93.4629
}

# Converting to square meters
coeffs_sqm = {feature: round(value / sqft_to_sqm, 2) for feature, value in coeffs_sqft.items()}
coeffs_sqm











# Your code here - center data

# Selecting the features and target
X = ames[["LotArea", "MasVnrArea", "TotalBsmtSF", "GrLivArea", "GarageArea"]]
y = ames["SalePrice"]

# Centering the data by subtracting the mean from each feature
X_centered = X - X.mean()


# Your code here - build a new model

# Adding a constant (intercept)
X_centered = sm.add_constant(X_centered)

# Fitting a new model with centered data
model_centered = sm.OLS(y, X_centered).fit()

# summary results
print(model_centered.summary())











# Your code here - building a new model or transforming coefficients
# from centered model so that they are in standard deviations

# Selecting features and target
X = ames[["LotArea", "MasVnrArea", "TotalBsmtSF", "GrLivArea", "GarageArea"]]
y = ames["SalePrice"]

# Standardizing predictors 
X_standardized = (X - X.mean()) / X.std()

# Adding a constant 
X_standardized = sm.add_constant(X_standardized)

# Fitting model
model_standardized = sm.OLS(y, X_standardized)
results_standardized = model_standardized.fit()

# Display standardized coefficients
print(results_standardized.summary())









